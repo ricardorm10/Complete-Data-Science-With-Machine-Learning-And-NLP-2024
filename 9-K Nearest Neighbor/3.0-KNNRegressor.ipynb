{
 "cells": [
  {
   "cell_type": "markdown",
   "id": "af17627a-137b-4da3-80d0-4caa79eaa622",
   "metadata": {},
   "source": [
    "## KNN Regressor"
   ]
  },
  {
   "cell_type": "code",
   "execution_count": 1,
   "id": "c267463c-174a-4429-9ccd-d436bef976e6",
   "metadata": {},
   "outputs": [],
   "source": [
    "from sklearn.datasets import make_regression\n",
    "\n",
    "# Create a dataset with 1000 samples, 2 features, and some noise\n",
    "X, y = make_regression(n_samples=1000, \n",
    "                       n_features=2, \n",
    "                       noise=10, \n",
    "                       random_state=42)"
   ]
  },
  {
   "cell_type": "code",
   "execution_count": 2,
   "id": "4491fcf7-8b97-44b6-b5ee-48274bb26817",
   "metadata": {},
   "outputs": [],
   "source": [
    "from sklearn.model_selection import train_test_split\n",
    "\n",
    "# Split the data into training and test sets\n",
    "X_train, X_test, y_train, y_test = train_test_split(X, y, test_size=0.33, random_state=42)"
   ]
  },
  {
   "cell_type": "code",
   "execution_count": 4,
   "id": "b142e965-cb36-491c-8852-dc85bce80cdc",
   "metadata": {},
   "outputs": [
    {
     "name": "stdout",
     "output_type": "stream",
     "text": [
      "Mean Absolute Error: 9.009462452972217\n",
      "Mean Squared Error: 127.45860414317289\n",
      "Root Mean Squared Error: 11.289756602476995\n",
      "R^2: 0.9189275159979495\n",
      "Adjusted R^2: 0.9184316598266832\n"
     ]
    }
   ],
   "source": [
    "from sklearn.neighbors import KNeighborsRegressor\n",
    "from sklearn.metrics import mean_squared_error, mean_absolute_error, r2_score\n",
    "import numpy as np\n",
    "\n",
    "# Create a k-NN regressor with 6 neighbors\n",
    "knn = KNeighborsRegressor(n_neighbors=6,\n",
    "                          algorithm='auto')\n",
    "\n",
    "# Fit the regressor to the training data\n",
    "knn.fit(X_train, y_train)\n",
    "\n",
    "# Make predictions on the test data\n",
    "y_pred = knn.predict(X_test)\n",
    "\n",
    "# Evaluate the model\n",
    "mae = mean_absolute_error(y_test, y_pred)\n",
    "mse = mean_squared_error(y_test, y_pred)\n",
    "rmse = np.sqrt(mse)\n",
    "r2 = r2_score(y_test, y_pred)\n",
    "adj_r2 = 1 - (1-r2)*(len(y_test)-1)/(len(y_test)-X_test.shape[1]-1)\n",
    "\n",
    "# Print the metrics\n",
    "print('Mean Absolute Error:', mae)\n",
    "print('Mean Squared Error:', mse)\n",
    "print('Root Mean Squared Error:', rmse)\n",
    "print('R^2:', r2)\n",
    "print('Adjusted R^2:', adj_r2)"
   ]
  }
 ],
 "metadata": {
  "kernelspec": {
   "display_name": "venv",
   "language": "python",
   "name": "python3"
  },
  "language_info": {
   "codemirror_mode": {
    "name": "ipython",
    "version": 3
   },
   "file_extension": ".py",
   "mimetype": "text/x-python",
   "name": "python",
   "nbconvert_exporter": "python",
   "pygments_lexer": "ipython3",
   "version": "3.12.0"
  }
 },
 "nbformat": 4,
 "nbformat_minor": 5
}
